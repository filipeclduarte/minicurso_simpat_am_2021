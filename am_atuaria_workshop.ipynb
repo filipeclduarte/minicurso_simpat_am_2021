{
  "nbformat": 4,
  "nbformat_minor": 0,
  "metadata": {
    "colab": {
      "name": "am_atuaria_workshop.ipynb",
      "provenance": [],
      "collapsed_sections": [],
      "include_colab_link": true
    },
    "kernelspec": {
      "display_name": "Python 3",
      "language": "python",
      "name": "python3"
    },
    "language_info": {
      "codemirror_mode": {
        "name": "ipython",
        "version": 3
      },
      "file_extension": ".py",
      "mimetype": "text/x-python",
      "name": "python",
      "nbconvert_exporter": "python",
      "pygments_lexer": "ipython3",
      "version": "3.6.6"
    }
  },
  "cells": [
    {
      "cell_type": "markdown",
      "metadata": {
        "id": "view-in-github",
        "colab_type": "text"
      },
      "source": [
        "<a href=\"https://colab.research.google.com/github/filipeclduarte/minicurso_simpat_am_2021/blob/main/am_atuaria_workshop.ipynb\" target=\"_parent\"><img src=\"https://colab.research.google.com/assets/colab-badge.svg\" alt=\"Open In Colab\"/></a>"
      ]
    },
    {
      "cell_type": "markdown",
      "metadata": {
        "id": "1RWbuTCpU7u8"
      },
      "source": [
        "# Minicurso de Aprendizagem de Máquina aplicada à Atuária com Python\n",
        "\n",
        "Minicurso apresentado no SIMPAT 2021\n",
        "\n",
        "**Objetivo**: Apresentar pipeline da modelagem com Aprendizagem de Máquina em Python.\n",
        "\n",
        "Exemplo: Prever se um segurado incorrerá em sinistro em um seguro de viagem.\n",
        "\n",
        "Base de dados: https://www.kaggle.com/mhdzahier/travel-insurance\n",
        "\n"
      ]
    },
    {
      "cell_type": "markdown",
      "metadata": {
        "id": "5rPJGLxIUpyz"
      },
      "source": [
        "## Introdução"
      ]
    },
    {
      "cell_type": "markdown",
      "metadata": {
        "id": "pRqspIAOUpzB"
      },
      "source": [
        "\n",
        "Machine Learning workflow\n",
        "\n",
        "1. [Carregando bibliotecas](#carregando_bibliotecas)\n",
        "2. [Conhecendo os dados](#conhecendo_dados)\n",
        "4. [Estatística descritiva](#estat_descritiva)\n",
        "5. [Pré-processamento](#pre_process)\n",
        "6. [Modelos](#modelos)\n",
        "7. [Grid Search](#grid)"
      ]
    },
    {
      "cell_type": "markdown",
      "metadata": {
        "id": "ey_R3_urUpzD"
      },
      "source": [
        "## Carregando bibliotecas"
      ]
    },
    {
      "cell_type": "code",
      "metadata": {
        "id": "a9y5pbbUUpzD"
      },
      "source": [
        "# bibliotecas de análise de dados e gráficos\n",
        "import numpy as np\n",
        "import pandas as pd\n",
        "import matplotlib.pyplot as plt\n",
        "import seaborn as sns\n",
        "\n",
        "# bibliotecas para pré-processamento e machine learning\n",
        "from sklearn.preprocessing import MinMaxScaler\n",
        "from sklearn.model_selection import train_test_split\n",
        "from sklearn.model_selection import cross_val_score, GridSearchCV\n",
        "import sklearn.metrics as metrics\n",
        "from sklearn.metrics import accuracy_score, roc_auc_score, confusion_matrix\n",
        "from sklearn.metrics import plot_confusion_matrix\n",
        "from sklearn.linear_model import LogisticRegression \n",
        "from sklearn.neighbors import KNeighborsClassifier\n",
        "from sklearn.tree import DecisionTreeClassifier\n",
        "from sklearn.neural_network import MLPClassifier\n",
        "from sklearn.ensemble import RandomForestClassifier\n",
        "from xgboost import XGBClassifier\n",
        "pd.set_option('display.max_columns', 100) \n",
        "\n",
        "np.random.seed(0)"
      ],
      "execution_count": 1,
      "outputs": []
    },
    {
      "cell_type": "markdown",
      "metadata": {
        "id": "ClcRB60NUpzF"
      },
      "source": [
        "## Carregando os dados\n"
      ]
    },
    {
      "cell_type": "code",
      "metadata": {
        "id": "QbJD39Q0UpzG"
      },
      "source": [
        "def ler_dados():\n",
        "    # download dos dados\n",
        "    import urllib.request\n",
        "    url = \"https://github.com/filipeclduarte/minicurso_simpat_am_2021/raw/main/travel_insurance.zip\"\n",
        "    print('Iniciando o download dos dados...')\n",
        "    urllib.request.urlretrieve(url, 'travel_insurance.zip')\n",
        "    print('Download finalizado.')\n",
        "\n",
        "    # extração dos dados .zip\n",
        "    print('Iniciando extração do arquivo...')\n",
        "    import zipfile\n",
        "    zf = zipfile.ZipFile('travel_insurance.zip') \n",
        "    print('Finalização da extração.')\n",
        "\n",
        "    # ler arquivo .csv no formato DataFrame com pandas\n",
        "    print('Lendo os dados .csv em pandas.DataFrame')\n",
        "    df = pd.read_csv(zf.open('travel insurance.csv')) # a coluna id será index\n",
        "    \n",
        "    return df"
      ],
      "execution_count": 2,
      "outputs": []
    },
    {
      "cell_type": "code",
      "metadata": {
        "colab": {
          "base_uri": "https://localhost:8080/"
        },
        "id": "-pWhDqgVnD2m",
        "outputId": "651d66ec-bc6e-4196-c53c-c0cc2af973ff"
      },
      "source": [
        "# realizando a leitura dos dados\n",
        "df = ler_dados()"
      ],
      "execution_count": 3,
      "outputs": [
        {
          "output_type": "stream",
          "text": [
            "Iniciando o download dos dados...\n",
            "Download finalizado.\n",
            "Iniciando extração do arquivo...\n",
            "Finalização da extração.\n",
            "Lendo os dados .csv em pandas.DataFrame\n"
          ],
          "name": "stdout"
        }
      ]
    },
    {
      "cell_type": "code",
      "metadata": {
        "colab": {
          "base_uri": "https://localhost:8080/",
          "height": 519
        },
        "id": "-aLdnDmanSRj",
        "outputId": "d356c453-51f0-4bbc-a5fc-dcb53882315d"
      },
      "source": [
        "# visualizando os dados\n",
        "df"
      ],
      "execution_count": 4,
      "outputs": [
        {
          "output_type": "execute_result",
          "data": {
            "text/html": [
              "<div>\n",
              "<style scoped>\n",
              "    .dataframe tbody tr th:only-of-type {\n",
              "        vertical-align: middle;\n",
              "    }\n",
              "\n",
              "    .dataframe tbody tr th {\n",
              "        vertical-align: top;\n",
              "    }\n",
              "\n",
              "    .dataframe thead th {\n",
              "        text-align: right;\n",
              "    }\n",
              "</style>\n",
              "<table border=\"1\" class=\"dataframe\">\n",
              "  <thead>\n",
              "    <tr style=\"text-align: right;\">\n",
              "      <th></th>\n",
              "      <th>Agency</th>\n",
              "      <th>Agency Type</th>\n",
              "      <th>Distribution Channel</th>\n",
              "      <th>Product Name</th>\n",
              "      <th>Claim</th>\n",
              "      <th>Duration</th>\n",
              "      <th>Destination</th>\n",
              "      <th>Net Sales</th>\n",
              "      <th>Commision (in value)</th>\n",
              "      <th>Gender</th>\n",
              "      <th>Age</th>\n",
              "    </tr>\n",
              "  </thead>\n",
              "  <tbody>\n",
              "    <tr>\n",
              "      <th>0</th>\n",
              "      <td>CBH</td>\n",
              "      <td>Travel Agency</td>\n",
              "      <td>Offline</td>\n",
              "      <td>Comprehensive Plan</td>\n",
              "      <td>No</td>\n",
              "      <td>186</td>\n",
              "      <td>MALAYSIA</td>\n",
              "      <td>-29.0</td>\n",
              "      <td>9.57</td>\n",
              "      <td>F</td>\n",
              "      <td>81</td>\n",
              "    </tr>\n",
              "    <tr>\n",
              "      <th>1</th>\n",
              "      <td>CBH</td>\n",
              "      <td>Travel Agency</td>\n",
              "      <td>Offline</td>\n",
              "      <td>Comprehensive Plan</td>\n",
              "      <td>No</td>\n",
              "      <td>186</td>\n",
              "      <td>MALAYSIA</td>\n",
              "      <td>-29.0</td>\n",
              "      <td>9.57</td>\n",
              "      <td>F</td>\n",
              "      <td>71</td>\n",
              "    </tr>\n",
              "    <tr>\n",
              "      <th>2</th>\n",
              "      <td>CWT</td>\n",
              "      <td>Travel Agency</td>\n",
              "      <td>Online</td>\n",
              "      <td>Rental Vehicle Excess Insurance</td>\n",
              "      <td>No</td>\n",
              "      <td>65</td>\n",
              "      <td>AUSTRALIA</td>\n",
              "      <td>-49.5</td>\n",
              "      <td>29.70</td>\n",
              "      <td>NaN</td>\n",
              "      <td>32</td>\n",
              "    </tr>\n",
              "    <tr>\n",
              "      <th>3</th>\n",
              "      <td>CWT</td>\n",
              "      <td>Travel Agency</td>\n",
              "      <td>Online</td>\n",
              "      <td>Rental Vehicle Excess Insurance</td>\n",
              "      <td>No</td>\n",
              "      <td>60</td>\n",
              "      <td>AUSTRALIA</td>\n",
              "      <td>-39.6</td>\n",
              "      <td>23.76</td>\n",
              "      <td>NaN</td>\n",
              "      <td>32</td>\n",
              "    </tr>\n",
              "    <tr>\n",
              "      <th>4</th>\n",
              "      <td>CWT</td>\n",
              "      <td>Travel Agency</td>\n",
              "      <td>Online</td>\n",
              "      <td>Rental Vehicle Excess Insurance</td>\n",
              "      <td>No</td>\n",
              "      <td>79</td>\n",
              "      <td>ITALY</td>\n",
              "      <td>-19.8</td>\n",
              "      <td>11.88</td>\n",
              "      <td>NaN</td>\n",
              "      <td>41</td>\n",
              "    </tr>\n",
              "    <tr>\n",
              "      <th>...</th>\n",
              "      <td>...</td>\n",
              "      <td>...</td>\n",
              "      <td>...</td>\n",
              "      <td>...</td>\n",
              "      <td>...</td>\n",
              "      <td>...</td>\n",
              "      <td>...</td>\n",
              "      <td>...</td>\n",
              "      <td>...</td>\n",
              "      <td>...</td>\n",
              "      <td>...</td>\n",
              "    </tr>\n",
              "    <tr>\n",
              "      <th>63321</th>\n",
              "      <td>JZI</td>\n",
              "      <td>Airlines</td>\n",
              "      <td>Online</td>\n",
              "      <td>Basic Plan</td>\n",
              "      <td>No</td>\n",
              "      <td>111</td>\n",
              "      <td>JAPAN</td>\n",
              "      <td>35.0</td>\n",
              "      <td>12.25</td>\n",
              "      <td>M</td>\n",
              "      <td>31</td>\n",
              "    </tr>\n",
              "    <tr>\n",
              "      <th>63322</th>\n",
              "      <td>JZI</td>\n",
              "      <td>Airlines</td>\n",
              "      <td>Online</td>\n",
              "      <td>Basic Plan</td>\n",
              "      <td>No</td>\n",
              "      <td>58</td>\n",
              "      <td>CHINA</td>\n",
              "      <td>40.0</td>\n",
              "      <td>14.00</td>\n",
              "      <td>F</td>\n",
              "      <td>40</td>\n",
              "    </tr>\n",
              "    <tr>\n",
              "      <th>63323</th>\n",
              "      <td>JZI</td>\n",
              "      <td>Airlines</td>\n",
              "      <td>Online</td>\n",
              "      <td>Basic Plan</td>\n",
              "      <td>No</td>\n",
              "      <td>2</td>\n",
              "      <td>MALAYSIA</td>\n",
              "      <td>18.0</td>\n",
              "      <td>6.30</td>\n",
              "      <td>M</td>\n",
              "      <td>57</td>\n",
              "    </tr>\n",
              "    <tr>\n",
              "      <th>63324</th>\n",
              "      <td>JZI</td>\n",
              "      <td>Airlines</td>\n",
              "      <td>Online</td>\n",
              "      <td>Basic Plan</td>\n",
              "      <td>No</td>\n",
              "      <td>3</td>\n",
              "      <td>VIET NAM</td>\n",
              "      <td>18.0</td>\n",
              "      <td>6.30</td>\n",
              "      <td>M</td>\n",
              "      <td>63</td>\n",
              "    </tr>\n",
              "    <tr>\n",
              "      <th>63325</th>\n",
              "      <td>JZI</td>\n",
              "      <td>Airlines</td>\n",
              "      <td>Online</td>\n",
              "      <td>Basic Plan</td>\n",
              "      <td>No</td>\n",
              "      <td>22</td>\n",
              "      <td>HONG KONG</td>\n",
              "      <td>26.0</td>\n",
              "      <td>9.10</td>\n",
              "      <td>F</td>\n",
              "      <td>35</td>\n",
              "    </tr>\n",
              "  </tbody>\n",
              "</table>\n",
              "<p>63326 rows × 11 columns</p>\n",
              "</div>"
            ],
            "text/plain": [
              "      Agency    Agency Type Distribution Channel  \\\n",
              "0        CBH  Travel Agency              Offline   \n",
              "1        CBH  Travel Agency              Offline   \n",
              "2        CWT  Travel Agency               Online   \n",
              "3        CWT  Travel Agency               Online   \n",
              "4        CWT  Travel Agency               Online   \n",
              "...      ...            ...                  ...   \n",
              "63321    JZI       Airlines               Online   \n",
              "63322    JZI       Airlines               Online   \n",
              "63323    JZI       Airlines               Online   \n",
              "63324    JZI       Airlines               Online   \n",
              "63325    JZI       Airlines               Online   \n",
              "\n",
              "                          Product Name Claim  Duration Destination  Net Sales  \\\n",
              "0                   Comprehensive Plan    No       186    MALAYSIA      -29.0   \n",
              "1                   Comprehensive Plan    No       186    MALAYSIA      -29.0   \n",
              "2      Rental Vehicle Excess Insurance    No        65   AUSTRALIA      -49.5   \n",
              "3      Rental Vehicle Excess Insurance    No        60   AUSTRALIA      -39.6   \n",
              "4      Rental Vehicle Excess Insurance    No        79       ITALY      -19.8   \n",
              "...                                ...   ...       ...         ...        ...   \n",
              "63321                       Basic Plan    No       111       JAPAN       35.0   \n",
              "63322                       Basic Plan    No        58       CHINA       40.0   \n",
              "63323                       Basic Plan    No         2    MALAYSIA       18.0   \n",
              "63324                       Basic Plan    No         3    VIET NAM       18.0   \n",
              "63325                       Basic Plan    No        22   HONG KONG       26.0   \n",
              "\n",
              "       Commision (in value) Gender  Age  \n",
              "0                      9.57      F   81  \n",
              "1                      9.57      F   71  \n",
              "2                     29.70    NaN   32  \n",
              "3                     23.76    NaN   32  \n",
              "4                     11.88    NaN   41  \n",
              "...                     ...    ...  ...  \n",
              "63321                 12.25      M   31  \n",
              "63322                 14.00      F   40  \n",
              "63323                  6.30      M   57  \n",
              "63324                  6.30      M   63  \n",
              "63325                  9.10      F   35  \n",
              "\n",
              "[63326 rows x 11 columns]"
            ]
          },
          "metadata": {
            "tags": []
          },
          "execution_count": 4
        }
      ]
    },
    {
      "cell_type": "code",
      "metadata": {
        "id": "Vm5RqpJCeAFk"
      },
      "source": [
        "# Sem pré-processamento\n",
        "df2 = df.copy()"
      ],
      "execution_count": 5,
      "outputs": []
    },
    {
      "cell_type": "markdown",
      "metadata": {
        "id": "aA70dRf0UpzH"
      },
      "source": [
        "## Conhecendo os dados"
      ]
    },
    {
      "cell_type": "markdown",
      "metadata": {
        "id": "GaeqrhZWUpzH"
      },
      "source": [
        "Algumas informações sobre os dados:\n",
        "\n",
        "* Target: Claim (Yes/No)\n",
        "* Gender possui valores NaN\n",
        "\n",
        "Precisamos realizar pré-processamento"
      ]
    },
    {
      "cell_type": "code",
      "metadata": {
        "colab": {
          "base_uri": "https://localhost:8080/",
          "height": 306
        },
        "id": "gUhMjhIKUpzI",
        "outputId": "9bfaeb71-5eaa-4c49-909d-19a83b361e51"
      },
      "source": [
        "# 5 primeiras linhas\n",
        "df.head()"
      ],
      "execution_count": 6,
      "outputs": [
        {
          "output_type": "execute_result",
          "data": {
            "text/html": [
              "<div>\n",
              "<style scoped>\n",
              "    .dataframe tbody tr th:only-of-type {\n",
              "        vertical-align: middle;\n",
              "    }\n",
              "\n",
              "    .dataframe tbody tr th {\n",
              "        vertical-align: top;\n",
              "    }\n",
              "\n",
              "    .dataframe thead th {\n",
              "        text-align: right;\n",
              "    }\n",
              "</style>\n",
              "<table border=\"1\" class=\"dataframe\">\n",
              "  <thead>\n",
              "    <tr style=\"text-align: right;\">\n",
              "      <th></th>\n",
              "      <th>Agency</th>\n",
              "      <th>Agency Type</th>\n",
              "      <th>Distribution Channel</th>\n",
              "      <th>Product Name</th>\n",
              "      <th>Claim</th>\n",
              "      <th>Duration</th>\n",
              "      <th>Destination</th>\n",
              "      <th>Net Sales</th>\n",
              "      <th>Commision (in value)</th>\n",
              "      <th>Gender</th>\n",
              "      <th>Age</th>\n",
              "    </tr>\n",
              "  </thead>\n",
              "  <tbody>\n",
              "    <tr>\n",
              "      <th>0</th>\n",
              "      <td>CBH</td>\n",
              "      <td>Travel Agency</td>\n",
              "      <td>Offline</td>\n",
              "      <td>Comprehensive Plan</td>\n",
              "      <td>No</td>\n",
              "      <td>186</td>\n",
              "      <td>MALAYSIA</td>\n",
              "      <td>-29.0</td>\n",
              "      <td>9.57</td>\n",
              "      <td>F</td>\n",
              "      <td>81</td>\n",
              "    </tr>\n",
              "    <tr>\n",
              "      <th>1</th>\n",
              "      <td>CBH</td>\n",
              "      <td>Travel Agency</td>\n",
              "      <td>Offline</td>\n",
              "      <td>Comprehensive Plan</td>\n",
              "      <td>No</td>\n",
              "      <td>186</td>\n",
              "      <td>MALAYSIA</td>\n",
              "      <td>-29.0</td>\n",
              "      <td>9.57</td>\n",
              "      <td>F</td>\n",
              "      <td>71</td>\n",
              "    </tr>\n",
              "    <tr>\n",
              "      <th>2</th>\n",
              "      <td>CWT</td>\n",
              "      <td>Travel Agency</td>\n",
              "      <td>Online</td>\n",
              "      <td>Rental Vehicle Excess Insurance</td>\n",
              "      <td>No</td>\n",
              "      <td>65</td>\n",
              "      <td>AUSTRALIA</td>\n",
              "      <td>-49.5</td>\n",
              "      <td>29.70</td>\n",
              "      <td>NaN</td>\n",
              "      <td>32</td>\n",
              "    </tr>\n",
              "    <tr>\n",
              "      <th>3</th>\n",
              "      <td>CWT</td>\n",
              "      <td>Travel Agency</td>\n",
              "      <td>Online</td>\n",
              "      <td>Rental Vehicle Excess Insurance</td>\n",
              "      <td>No</td>\n",
              "      <td>60</td>\n",
              "      <td>AUSTRALIA</td>\n",
              "      <td>-39.6</td>\n",
              "      <td>23.76</td>\n",
              "      <td>NaN</td>\n",
              "      <td>32</td>\n",
              "    </tr>\n",
              "    <tr>\n",
              "      <th>4</th>\n",
              "      <td>CWT</td>\n",
              "      <td>Travel Agency</td>\n",
              "      <td>Online</td>\n",
              "      <td>Rental Vehicle Excess Insurance</td>\n",
              "      <td>No</td>\n",
              "      <td>79</td>\n",
              "      <td>ITALY</td>\n",
              "      <td>-19.8</td>\n",
              "      <td>11.88</td>\n",
              "      <td>NaN</td>\n",
              "      <td>41</td>\n",
              "    </tr>\n",
              "  </tbody>\n",
              "</table>\n",
              "</div>"
            ],
            "text/plain": [
              "  Agency    Agency Type Distribution Channel                     Product Name  \\\n",
              "0    CBH  Travel Agency              Offline               Comprehensive Plan   \n",
              "1    CBH  Travel Agency              Offline               Comprehensive Plan   \n",
              "2    CWT  Travel Agency               Online  Rental Vehicle Excess Insurance   \n",
              "3    CWT  Travel Agency               Online  Rental Vehicle Excess Insurance   \n",
              "4    CWT  Travel Agency               Online  Rental Vehicle Excess Insurance   \n",
              "\n",
              "  Claim  Duration Destination  Net Sales  Commision (in value) Gender  Age  \n",
              "0    No       186    MALAYSIA      -29.0                  9.57      F   81  \n",
              "1    No       186    MALAYSIA      -29.0                  9.57      F   71  \n",
              "2    No        65   AUSTRALIA      -49.5                 29.70    NaN   32  \n",
              "3    No        60   AUSTRALIA      -39.6                 23.76    NaN   32  \n",
              "4    No        79       ITALY      -19.8                 11.88    NaN   41  "
            ]
          },
          "metadata": {
            "tags": []
          },
          "execution_count": 6
        }
      ]
    },
    {
      "cell_type": "code",
      "metadata": {
        "colab": {
          "base_uri": "https://localhost:8080/"
        },
        "id": "4Lzl54_OUpzJ",
        "outputId": "e92fe711-e2c8-4e6a-fa5f-e19b4ef2b017"
      },
      "source": [
        "# visualizando a estrutura dos dados\n",
        "df.info()"
      ],
      "execution_count": 7,
      "outputs": [
        {
          "output_type": "stream",
          "text": [
            "<class 'pandas.core.frame.DataFrame'>\n",
            "RangeIndex: 63326 entries, 0 to 63325\n",
            "Data columns (total 11 columns):\n",
            " #   Column                Non-Null Count  Dtype  \n",
            "---  ------                --------------  -----  \n",
            " 0   Agency                63326 non-null  object \n",
            " 1   Agency Type           63326 non-null  object \n",
            " 2   Distribution Channel  63326 non-null  object \n",
            " 3   Product Name          63326 non-null  object \n",
            " 4   Claim                 63326 non-null  object \n",
            " 5   Duration              63326 non-null  int64  \n",
            " 6   Destination           63326 non-null  object \n",
            " 7   Net Sales             63326 non-null  float64\n",
            " 8   Commision (in value)  63326 non-null  float64\n",
            " 9   Gender                18219 non-null  object \n",
            " 10  Age                   63326 non-null  int64  \n",
            "dtypes: float64(2), int64(2), object(7)\n",
            "memory usage: 5.3+ MB\n"
          ],
          "name": "stdout"
        }
      ]
    },
    {
      "cell_type": "markdown",
      "metadata": {
        "id": "Mke6tYf2UpzK"
      },
      "source": [
        "5 últimas linhas dos dados"
      ]
    },
    {
      "cell_type": "code",
      "metadata": {
        "colab": {
          "base_uri": "https://localhost:8080/",
          "height": 202
        },
        "id": "RyivxAs7UpzL",
        "outputId": "b716b35a-e551-4ad2-bb27-87f86d536de4"
      },
      "source": [
        "df.tail()"
      ],
      "execution_count": 8,
      "outputs": [
        {
          "output_type": "execute_result",
          "data": {
            "text/html": [
              "<div>\n",
              "<style scoped>\n",
              "    .dataframe tbody tr th:only-of-type {\n",
              "        vertical-align: middle;\n",
              "    }\n",
              "\n",
              "    .dataframe tbody tr th {\n",
              "        vertical-align: top;\n",
              "    }\n",
              "\n",
              "    .dataframe thead th {\n",
              "        text-align: right;\n",
              "    }\n",
              "</style>\n",
              "<table border=\"1\" class=\"dataframe\">\n",
              "  <thead>\n",
              "    <tr style=\"text-align: right;\">\n",
              "      <th></th>\n",
              "      <th>Agency</th>\n",
              "      <th>Agency Type</th>\n",
              "      <th>Distribution Channel</th>\n",
              "      <th>Product Name</th>\n",
              "      <th>Claim</th>\n",
              "      <th>Duration</th>\n",
              "      <th>Destination</th>\n",
              "      <th>Net Sales</th>\n",
              "      <th>Commision (in value)</th>\n",
              "      <th>Gender</th>\n",
              "      <th>Age</th>\n",
              "    </tr>\n",
              "  </thead>\n",
              "  <tbody>\n",
              "    <tr>\n",
              "      <th>63321</th>\n",
              "      <td>JZI</td>\n",
              "      <td>Airlines</td>\n",
              "      <td>Online</td>\n",
              "      <td>Basic Plan</td>\n",
              "      <td>No</td>\n",
              "      <td>111</td>\n",
              "      <td>JAPAN</td>\n",
              "      <td>35.0</td>\n",
              "      <td>12.25</td>\n",
              "      <td>M</td>\n",
              "      <td>31</td>\n",
              "    </tr>\n",
              "    <tr>\n",
              "      <th>63322</th>\n",
              "      <td>JZI</td>\n",
              "      <td>Airlines</td>\n",
              "      <td>Online</td>\n",
              "      <td>Basic Plan</td>\n",
              "      <td>No</td>\n",
              "      <td>58</td>\n",
              "      <td>CHINA</td>\n",
              "      <td>40.0</td>\n",
              "      <td>14.00</td>\n",
              "      <td>F</td>\n",
              "      <td>40</td>\n",
              "    </tr>\n",
              "    <tr>\n",
              "      <th>63323</th>\n",
              "      <td>JZI</td>\n",
              "      <td>Airlines</td>\n",
              "      <td>Online</td>\n",
              "      <td>Basic Plan</td>\n",
              "      <td>No</td>\n",
              "      <td>2</td>\n",
              "      <td>MALAYSIA</td>\n",
              "      <td>18.0</td>\n",
              "      <td>6.30</td>\n",
              "      <td>M</td>\n",
              "      <td>57</td>\n",
              "    </tr>\n",
              "    <tr>\n",
              "      <th>63324</th>\n",
              "      <td>JZI</td>\n",
              "      <td>Airlines</td>\n",
              "      <td>Online</td>\n",
              "      <td>Basic Plan</td>\n",
              "      <td>No</td>\n",
              "      <td>3</td>\n",
              "      <td>VIET NAM</td>\n",
              "      <td>18.0</td>\n",
              "      <td>6.30</td>\n",
              "      <td>M</td>\n",
              "      <td>63</td>\n",
              "    </tr>\n",
              "    <tr>\n",
              "      <th>63325</th>\n",
              "      <td>JZI</td>\n",
              "      <td>Airlines</td>\n",
              "      <td>Online</td>\n",
              "      <td>Basic Plan</td>\n",
              "      <td>No</td>\n",
              "      <td>22</td>\n",
              "      <td>HONG KONG</td>\n",
              "      <td>26.0</td>\n",
              "      <td>9.10</td>\n",
              "      <td>F</td>\n",
              "      <td>35</td>\n",
              "    </tr>\n",
              "  </tbody>\n",
              "</table>\n",
              "</div>"
            ],
            "text/plain": [
              "      Agency Agency Type Distribution Channel Product Name Claim  Duration  \\\n",
              "63321    JZI    Airlines               Online   Basic Plan    No       111   \n",
              "63322    JZI    Airlines               Online   Basic Plan    No        58   \n",
              "63323    JZI    Airlines               Online   Basic Plan    No         2   \n",
              "63324    JZI    Airlines               Online   Basic Plan    No         3   \n",
              "63325    JZI    Airlines               Online   Basic Plan    No        22   \n",
              "\n",
              "      Destination  Net Sales  Commision (in value) Gender  Age  \n",
              "63321       JAPAN       35.0                 12.25      M   31  \n",
              "63322       CHINA       40.0                 14.00      F   40  \n",
              "63323    MALAYSIA       18.0                  6.30      M   57  \n",
              "63324    VIET NAM       18.0                  6.30      M   63  \n",
              "63325   HONG KONG       26.0                  9.10      F   35  "
            ]
          },
          "metadata": {
            "tags": []
          },
          "execution_count": 8
        }
      ]
    },
    {
      "cell_type": "markdown",
      "metadata": {
        "id": "RSIb9GweUpzL"
      },
      "source": [
        "\n",
        "A partir desses dados, vemos:\n",
        "* variáveis binárias\n",
        "* variáveis categóricas\n",
        "* variáveis restantes como valores reais (float) ou inteiros"
      ]
    },
    {
      "cell_type": "markdown",
      "metadata": {
        "id": "EPUZHkCcUpzL"
      },
      "source": [
        "Visualizando a quantidade de linhas e colunas dos dados."
      ]
    },
    {
      "cell_type": "code",
      "metadata": {
        "colab": {
          "base_uri": "https://localhost:8080/"
        },
        "id": "zBx79g_eUpzM",
        "outputId": "aecf03fe-4d61-4be6-d195-2d82e0eeced9"
      },
      "source": [
        "df.shape"
      ],
      "execution_count": 9,
      "outputs": [
        {
          "output_type": "execute_result",
          "data": {
            "text/plain": [
              "(63326, 11)"
            ]
          },
          "metadata": {
            "tags": []
          },
          "execution_count": 9
        }
      ]
    },
    {
      "cell_type": "markdown",
      "metadata": {
        "id": "-6XBnaBFUpzM"
      },
      "source": [
        "Temos 11 colunas e 63326 linhas. \n",
        "\n",
        "Vamos analisar abaixo se há duplicação de linhas.\n",
        "\n"
      ]
    },
    {
      "cell_type": "code",
      "metadata": {
        "colab": {
          "base_uri": "https://localhost:8080/"
        },
        "id": "snho2G2JUpzN",
        "outputId": "b19af7e2-67d8-4c8c-a4e8-80e414bf07ab"
      },
      "source": [
        "df = df.drop_duplicates()\n",
        "df.shape"
      ],
      "execution_count": 10,
      "outputs": [
        {
          "output_type": "execute_result",
          "data": {
            "text/plain": [
              "(55284, 11)"
            ]
          },
          "metadata": {
            "tags": []
          },
          "execution_count": 10
        }
      ]
    },
    {
      "cell_type": "markdown",
      "metadata": {
        "id": "fkaH2P2PUpzQ"
      },
      "source": [
        "## Estatística descritiva e análise exploratória"
      ]
    },
    {
      "cell_type": "markdown",
      "metadata": {
        "id": "aTFZ4GesUpzQ"
      },
      "source": [
        "O método `describe` apresenta as estatísticas descritivas para todas as colunas do data frame. Contudo, só fará sentido aplicá-la nas variáveis numéricas. "
      ]
    },
    {
      "cell_type": "markdown",
      "metadata": {
        "id": "JUcK9qxxUpzQ"
      },
      "source": [
        "#### Criando vetores com os nome das variáveis pelos grupos (reg, cat)"
      ]
    },
    {
      "cell_type": "code",
      "metadata": {
        "colab": {
          "base_uri": "https://localhost:8080/"
        },
        "id": "rmIDU-TgUpzQ",
        "outputId": "827a8fc7-7b45-4c53-a810-7330eb3aa2a6"
      },
      "source": [
        "# salvando nomes das colunas\n",
        "colunas = df.columns\n",
        "\n",
        "# salvando colunas a partir do tipo\n",
        "colunas_reg = [col for col in colunas if df[col].dtype == 'float64']\n",
        "colunas_cat = [col for col in colunas if df[col].dtype == 'object']\n",
        "\n",
        "# mostrando as categóricas\n",
        "print(colunas_cat)"
      ],
      "execution_count": 11,
      "outputs": [
        {
          "output_type": "stream",
          "text": [
            "['Agency', 'Agency Type', 'Distribution Channel', 'Product Name', 'Claim', 'Destination', 'Gender']\n"
          ],
          "name": "stdout"
        }
      ]
    },
    {
      "cell_type": "code",
      "metadata": {
        "colab": {
          "base_uri": "https://localhost:8080/",
          "height": 294
        },
        "id": "NBanXjV_UpzR",
        "outputId": "0309e8d4-29f8-40c8-d513-27083911a4d6"
      },
      "source": [
        "df[colunas_reg].describe()"
      ],
      "execution_count": 12,
      "outputs": [
        {
          "output_type": "execute_result",
          "data": {
            "text/html": [
              "<div>\n",
              "<style scoped>\n",
              "    .dataframe tbody tr th:only-of-type {\n",
              "        vertical-align: middle;\n",
              "    }\n",
              "\n",
              "    .dataframe tbody tr th {\n",
              "        vertical-align: top;\n",
              "    }\n",
              "\n",
              "    .dataframe thead th {\n",
              "        text-align: right;\n",
              "    }\n",
              "</style>\n",
              "<table border=\"1\" class=\"dataframe\">\n",
              "  <thead>\n",
              "    <tr style=\"text-align: right;\">\n",
              "      <th></th>\n",
              "      <th>Net Sales</th>\n",
              "      <th>Commision (in value)</th>\n",
              "    </tr>\n",
              "  </thead>\n",
              "  <tbody>\n",
              "    <tr>\n",
              "      <th>count</th>\n",
              "      <td>55284.000000</td>\n",
              "      <td>55284.000000</td>\n",
              "    </tr>\n",
              "    <tr>\n",
              "      <th>mean</th>\n",
              "      <td>42.788716</td>\n",
              "      <td>10.680707</td>\n",
              "    </tr>\n",
              "    <tr>\n",
              "      <th>std</th>\n",
              "      <td>50.448570</td>\n",
              "      <td>20.676708</td>\n",
              "    </tr>\n",
              "    <tr>\n",
              "      <th>min</th>\n",
              "      <td>-389.000000</td>\n",
              "      <td>0.000000</td>\n",
              "    </tr>\n",
              "    <tr>\n",
              "      <th>25%</th>\n",
              "      <td>19.167500</td>\n",
              "      <td>0.000000</td>\n",
              "    </tr>\n",
              "    <tr>\n",
              "      <th>50%</th>\n",
              "      <td>29.000000</td>\n",
              "      <td>0.000000</td>\n",
              "    </tr>\n",
              "    <tr>\n",
              "      <th>75%</th>\n",
              "      <td>50.500000</td>\n",
              "      <td>11.880000</td>\n",
              "    </tr>\n",
              "    <tr>\n",
              "      <th>max</th>\n",
              "      <td>810.000000</td>\n",
              "      <td>283.500000</td>\n",
              "    </tr>\n",
              "  </tbody>\n",
              "</table>\n",
              "</div>"
            ],
            "text/plain": [
              "          Net Sales  Commision (in value)\n",
              "count  55284.000000          55284.000000\n",
              "mean      42.788716             10.680707\n",
              "std       50.448570             20.676708\n",
              "min     -389.000000              0.000000\n",
              "25%       19.167500              0.000000\n",
              "50%       29.000000              0.000000\n",
              "75%       50.500000             11.880000\n",
              "max      810.000000            283.500000"
            ]
          },
          "metadata": {
            "tags": []
          },
          "execution_count": 12
        }
      ]
    },
    {
      "cell_type": "markdown",
      "metadata": {
        "id": "cqhjFdv6UpzR"
      },
      "source": [
        "\n",
        "* Vamos visualizar graficamente a distribuição de Net Sales."
      ]
    },
    {
      "cell_type": "code",
      "metadata": {
        "colab": {
          "base_uri": "https://localhost:8080/",
          "height": 281
        },
        "id": "XvPlBTPv_LTN",
        "outputId": "747b3abe-0485-4e64-cb38-7c84a33bf7e8"
      },
      "source": [
        "df[['Net Sales', 'Commision (in value)']].hist();"
      ],
      "execution_count": 13,
      "outputs": [
        {
          "output_type": "display_data",
          "data": {
            "image/png": "[encoded data removed]",
            "text/plain": [
              "<Figure size 432x288 with 2 Axes>"
            ]
          },
          "metadata": {
            "tags": [],
            "needs_background": "light"
          }
        }
      ]
    },
    {
      "cell_type": "markdown",
      "metadata": {
        "id": "r_MURs2V_fMI"
      },
      "source": [
        "É provável que os valores negativos sejam outliers. Dependendo da correlação dessa variável com Commision, iremos removê-la."
      ]
    },
    {
      "cell_type": "markdown",
      "metadata": {
        "id": "qWxrMMdYUpzR"
      },
      "source": [
        "#### variáveis 'cat'"
      ]
    },
    {
      "cell_type": "code",
      "metadata": {
        "colab": {
          "base_uri": "https://localhost:8080/",
          "height": 171
        },
        "id": "XeSBkDL7UpzR",
        "outputId": "e02cd9e8-01aa-48f4-da70-963c2ecbaa75"
      },
      "source": [
        "df[colunas_cat].describe()"
      ],
      "execution_count": 14,
      "outputs": [
        {
          "output_type": "execute_result",
          "data": {
            "text/html": [
              "<div>\n",
              "<style scoped>\n",
              "    .dataframe tbody tr th:only-of-type {\n",
              "        vertical-align: middle;\n",
              "    }\n",
              "\n",
              "    .dataframe tbody tr th {\n",
              "        vertical-align: top;\n",
              "    }\n",
              "\n",
              "    .dataframe thead th {\n",
              "        text-align: right;\n",
              "    }\n",
              "</style>\n",
              "<table border=\"1\" class=\"dataframe\">\n",
              "  <thead>\n",
              "    <tr style=\"text-align: right;\">\n",
              "      <th></th>\n",
              "      <th>Agency</th>\n",
              "      <th>Agency Type</th>\n",
              "      <th>Distribution Channel</th>\n",
              "      <th>Product Name</th>\n",
              "      <th>Claim</th>\n",
              "      <th>Destination</th>\n",
              "      <th>Gender</th>\n",
              "    </tr>\n",
              "  </thead>\n",
              "  <tbody>\n",
              "    <tr>\n",
              "      <th>count</th>\n",
              "      <td>55284</td>\n",
              "      <td>55284</td>\n",
              "      <td>55284</td>\n",
              "      <td>55284</td>\n",
              "      <td>55284</td>\n",
              "      <td>55284</td>\n",
              "      <td>16959</td>\n",
              "    </tr>\n",
              "    <tr>\n",
              "      <th>unique</th>\n",
              "      <td>16</td>\n",
              "      <td>2</td>\n",
              "      <td>2</td>\n",
              "      <td>26</td>\n",
              "      <td>2</td>\n",
              "      <td>149</td>\n",
              "      <td>2</td>\n",
              "    </tr>\n",
              "    <tr>\n",
              "      <th>top</th>\n",
              "      <td>EPX</td>\n",
              "      <td>Travel Agency</td>\n",
              "      <td>Online</td>\n",
              "      <td>Cancellation Plan</td>\n",
              "      <td>No</td>\n",
              "      <td>SINGAPORE</td>\n",
              "      <td>M</td>\n",
              "    </tr>\n",
              "    <tr>\n",
              "      <th>freq</th>\n",
              "      <td>28956</td>\n",
              "      <td>39098</td>\n",
              "      <td>54232</td>\n",
              "      <td>15308</td>\n",
              "      <td>54363</td>\n",
              "      <td>11539</td>\n",
              "      <td>8558</td>\n",
              "    </tr>\n",
              "  </tbody>\n",
              "</table>\n",
              "</div>"
            ],
            "text/plain": [
              "       Agency    Agency Type Distribution Channel       Product Name  Claim  \\\n",
              "count   55284          55284                55284              55284  55284   \n",
              "unique     16              2                    2                 26      2   \n",
              "top       EPX  Travel Agency               Online  Cancellation Plan     No   \n",
              "freq    28956          39098                54232              15308  54363   \n",
              "\n",
              "       Destination Gender  \n",
              "count        55284  16959  \n",
              "unique         149      2  \n",
              "top      SINGAPORE      M  \n",
              "freq         11539   8558  "
            ]
          },
          "metadata": {
            "tags": []
          },
          "execution_count": 14
        }
      ]
    },
    {
      "cell_type": "code",
      "metadata": {
        "colab": {
          "base_uri": "https://localhost:8080/",
          "height": 726
        },
        "id": "EqrM1rk1WGKm",
        "outputId": "399d29e5-e20e-4e9d-8c69-02a478e46865"
      },
      "source": [
        "# análise entre exploratória entre variáveis\n",
        "sns.pairplot(df, hue=\"Claim\");\n",
        "plt.show()"
      ],
      "execution_count": 15,
      "outputs": [
        {
          "output_type": "display_data",
          "data": {
            "image/png": "[encoded data removed]",
            "text/plain": [
              "<Figure size 772x720 with 20 Axes>"
            ]
          },
          "metadata": {
            "tags": [],
            "needs_background": "light"
          }
        }
      ]
    },
    {
      "cell_type": "markdown",
      "metadata": {
        "id": "PQ5yACnwUpzf"
      },
      "source": [
        "\n",
        "\n",
        "### Variáveis contínuas - Correlação"
      ]
    },
    {
      "cell_type": "code",
      "metadata": {
        "colab": {
          "base_uri": "https://localhost:8080/",
          "height": 110
        },
        "id": "GBKmugANUpzg",
        "outputId": "667baf8a-b4ac-4a2f-fb11-b83e7d34052d"
      },
      "source": [
        "continuas = colunas_reg\n",
        "correlacao = df[colunas_reg].corr()    \n",
        "correlacao"
      ],
      "execution_count": 16,
      "outputs": [
        {
          "output_type": "execute_result",
          "data": {
            "text/html": [
              "<div>\n",
              "<style scoped>\n",
              "    .dataframe tbody tr th:only-of-type {\n",
              "        vertical-align: middle;\n",
              "    }\n",
              "\n",
              "    .dataframe tbody tr th {\n",
              "        vertical-align: top;\n",
              "    }\n",
              "\n",
              "    .dataframe thead th {\n",
              "        text-align: right;\n",
              "    }\n",
              "</style>\n",
              "<table border=\"1\" class=\"dataframe\">\n",
              "  <thead>\n",
              "    <tr style=\"text-align: right;\">\n",
              "      <th></th>\n",
              "      <th>Net Sales</th>\n",
              "      <th>Commision (in value)</th>\n",
              "    </tr>\n",
              "  </thead>\n",
              "  <tbody>\n",
              "    <tr>\n",
              "      <th>Net Sales</th>\n",
              "      <td>1.0000</td>\n",
              "      <td>0.6431</td>\n",
              "    </tr>\n",
              "    <tr>\n",
              "      <th>Commision (in value)</th>\n",
              "      <td>0.6431</td>\n",
              "      <td>1.0000</td>\n",
              "    </tr>\n",
              "  </tbody>\n",
              "</table>\n",
              "</div>"
            ],
            "text/plain": [
              "                      Net Sales  Commision (in value)\n",
              "Net Sales                1.0000                0.6431\n",
              "Commision (in value)     0.6431                1.0000"
            ]
          },
          "metadata": {
            "tags": []
          },
          "execution_count": 16
        }
      ]
    },
    {
      "cell_type": "markdown",
      "metadata": {
        "id": "2hzCvJt-XQwa"
      },
      "source": [
        "* Correlacção positiva entre Net Sales e Comission (in value).\n",
        "\n",
        "Vamos remover Comission (in value) e as observações com valores negativos (possivelmente outliers de Net Sales)."
      ]
    },
    {
      "cell_type": "markdown",
      "metadata": {
        "id": "U97bVo81UpzT"
      },
      "source": [
        "## Pré-processamento\n",
        "\n",
        "É importante transformar as variáveis categóricas em códigos. "
      ]
    },
    {
      "cell_type": "code",
      "metadata": {
        "id": "_TOgfjv6vDz6",
        "colab": {
          "base_uri": "https://localhost:8080/"
        },
        "outputId": "3ec8f14c-cb23-4702-824b-fd4c0988244f"
      },
      "source": [
        "## Encoding a variável Claim\n",
        "df.loc[df['Claim'] == 'Yes', 'Claim'] = 1\n",
        "df.loc[df['Claim'] == 'No', 'Claim'] = 0\n",
        "df['Claim'] = df['Claim'].astype('int32')"
      ],
      "execution_count": 17,
      "outputs": [
        {
          "output_type": "stream",
          "text": [
            "/usr/local/lib/python3.7/dist-packages/pandas/core/indexing.py:1763: SettingWithCopyWarning: \n",
            "A value is trying to be set on a copy of a slice from a DataFrame.\n",
            "Try using .loc[row_indexer,col_indexer] = value instead\n",
            "\n",
            "See the caveats in the documentation: https://pandas.pydata.org/pandas-docs/stable/user_guide/indexing.html#returning-a-view-versus-a-copy\n",
            "  isetter(loc, value)\n",
            "/usr/local/lib/python3.7/dist-packages/ipykernel_launcher.py:4: SettingWithCopyWarning: \n",
            "A value is trying to be set on a copy of a slice from a DataFrame.\n",
            "Try using .loc[row_indexer,col_indexer] = value instead\n",
            "\n",
            "See the caveats in the documentation: https://pandas.pydata.org/pandas-docs/stable/user_guide/indexing.html#returning-a-view-versus-a-copy\n",
            "  after removing the cwd from sys.path.\n"
          ],
          "name": "stderr"
        }
      ]
    },
    {
      "cell_type": "code",
      "metadata": {
        "id": "kgfdEzXvfn4o"
      },
      "source": [
        "## 2\n",
        "df2.loc[df2['Claim'] == 'Yes', 'Claim'] = 1\n",
        "df2.loc[df2['Claim'] == 'No', 'Claim'] = 0\n",
        "df2['Claim'] = df2['Claim'].astype('int32')"
      ],
      "execution_count": 18,
      "outputs": []
    },
    {
      "cell_type": "code",
      "metadata": {
        "id": "01Rqxv4lvjTm"
      },
      "source": [
        "# Filtrar Net Sales > 0\n",
        "df = df[df['Net Sales'] > 0]"
      ],
      "execution_count": 19,
      "outputs": []
    },
    {
      "cell_type": "code",
      "metadata": {
        "id": "0DMvsxdXUpzY"
      },
      "source": [
        "# Excluindo variáveis com muitos dados omissos\n",
        "# var_remover = ['Gender', 'Commision (in value)']\n",
        "var_remover = ['Gender', 'Net Sales']\n",
        "df.drop(var_remover, inplace=True, axis=1)"
      ],
      "execution_count": 20,
      "outputs": []
    },
    {
      "cell_type": "code",
      "metadata": {
        "id": "Enu7fiADfpYk"
      },
      "source": [
        "## 2\n",
        "df2.drop(var_remover, inplace=True, axis=1)"
      ],
      "execution_count": 21,
      "outputs": []
    },
    {
      "cell_type": "markdown",
      "metadata": {
        "id": "3ZOf3JKrUpzS"
      },
      "source": [
        "### Qual a proporção de segurados com sinistros (priori)."
      ]
    },
    {
      "cell_type": "code",
      "metadata": {
        "colab": {
          "base_uri": "https://localhost:8080/"
        },
        "id": "ZhUTNsZzUpzS",
        "outputId": "7c7a3285-e9a4-41a0-b337-551770455678"
      },
      "source": [
        "qtd_sinistros = (df['Claim'].values == 1).sum()\n",
        "proporção = qtd_sinistros/df.shape[0]\n",
        "print('Qual a probabilidade a priori de um segurado sinistrar: {:.4f}'. format(proporção))"
      ],
      "execution_count": 22,
      "outputs": [
        {
          "output_type": "stream",
          "text": [
            "Qual a probabilidade a priori de um segurado sinistrar: 0.0174\n"
          ],
          "name": "stdout"
        }
      ]
    },
    {
      "cell_type": "code",
      "metadata": {
        "colab": {
          "base_uri": "https://localhost:8080/",
          "height": 415
        },
        "id": "YpVC22Qn_jQm",
        "outputId": "23671bd1-bb01-49d8-dcc2-41273ecfb303"
      },
      "source": [
        "df"
      ],
      "execution_count": 23,
      "outputs": [
        {
          "output_type": "execute_result",
          "data": {
            "text/html": [
              "<div>\n",
              "<style scoped>\n",
              "    .dataframe tbody tr th:only-of-type {\n",
              "        vertical-align: middle;\n",
              "    }\n",
              "\n",
              "    .dataframe tbody tr th {\n",
              "        vertical-align: top;\n",
              "    }\n",
              "\n",
              "    .dataframe thead th {\n",
              "        text-align: right;\n",
              "    }\n",
              "</style>\n",
              "<table border=\"1\" class=\"dataframe\">\n",
              "  <thead>\n",
              "    <tr style=\"text-align: right;\">\n",
              "      <th></th>\n",
              "      <th>Agency</th>\n",
              "      <th>Agency Type</th>\n",
              "      <th>Distribution Channel</th>\n",
              "      <th>Product Name</th>\n",
              "      <th>Claim</th>\n",
              "      <th>Duration</th>\n",
              "      <th>Destination</th>\n",
              "      <th>Commision (in value)</th>\n",
              "      <th>Age</th>\n",
              "    </tr>\n",
              "  </thead>\n",
              "  <tbody>\n",
              "    <tr>\n",
              "      <th>21</th>\n",
              "      <td>C2B</td>\n",
              "      <td>Airlines</td>\n",
              "      <td>Online</td>\n",
              "      <td>Bronze Plan</td>\n",
              "      <td>0</td>\n",
              "      <td>12</td>\n",
              "      <td>SINGAPORE</td>\n",
              "      <td>11.54</td>\n",
              "      <td>44</td>\n",
              "    </tr>\n",
              "    <tr>\n",
              "      <th>22</th>\n",
              "      <td>C2B</td>\n",
              "      <td>Airlines</td>\n",
              "      <td>Online</td>\n",
              "      <td>Bronze Plan</td>\n",
              "      <td>0</td>\n",
              "      <td>7</td>\n",
              "      <td>SINGAPORE</td>\n",
              "      <td>4.39</td>\n",
              "      <td>25</td>\n",
              "    </tr>\n",
              "    <tr>\n",
              "      <th>23</th>\n",
              "      <td>C2B</td>\n",
              "      <td>Airlines</td>\n",
              "      <td>Online</td>\n",
              "      <td>Bronze Plan</td>\n",
              "      <td>1</td>\n",
              "      <td>12</td>\n",
              "      <td>SINGAPORE</td>\n",
              "      <td>23.50</td>\n",
              "      <td>34</td>\n",
              "    </tr>\n",
              "    <tr>\n",
              "      <th>24</th>\n",
              "      <td>C2B</td>\n",
              "      <td>Airlines</td>\n",
              "      <td>Online</td>\n",
              "      <td>Silver Plan</td>\n",
              "      <td>0</td>\n",
              "      <td>190</td>\n",
              "      <td>SINGAPORE</td>\n",
              "      <td>73.69</td>\n",
              "      <td>26</td>\n",
              "    </tr>\n",
              "    <tr>\n",
              "      <th>25</th>\n",
              "      <td>C2B</td>\n",
              "      <td>Airlines</td>\n",
              "      <td>Online</td>\n",
              "      <td>Annual Silver Plan</td>\n",
              "      <td>0</td>\n",
              "      <td>364</td>\n",
              "      <td>SINGAPORE</td>\n",
              "      <td>97.25</td>\n",
              "      <td>30</td>\n",
              "    </tr>\n",
              "    <tr>\n",
              "      <th>...</th>\n",
              "      <td>...</td>\n",
              "      <td>...</td>\n",
              "      <td>...</td>\n",
              "      <td>...</td>\n",
              "      <td>...</td>\n",
              "      <td>...</td>\n",
              "      <td>...</td>\n",
              "      <td>...</td>\n",
              "      <td>...</td>\n",
              "    </tr>\n",
              "    <tr>\n",
              "      <th>63320</th>\n",
              "      <td>JZI</td>\n",
              "      <td>Airlines</td>\n",
              "      <td>Online</td>\n",
              "      <td>Basic Plan</td>\n",
              "      <td>0</td>\n",
              "      <td>5</td>\n",
              "      <td>BRUNEI DARUSSALAM</td>\n",
              "      <td>6.30</td>\n",
              "      <td>27</td>\n",
              "    </tr>\n",
              "    <tr>\n",
              "      <th>63321</th>\n",
              "      <td>JZI</td>\n",
              "      <td>Airlines</td>\n",
              "      <td>Online</td>\n",
              "      <td>Basic Plan</td>\n",
              "      <td>0</td>\n",
              "      <td>111</td>\n",
              "      <td>JAPAN</td>\n",
              "      <td>12.25</td>\n",
              "      <td>31</td>\n",
              "    </tr>\n",
              "    <tr>\n",
              "      <th>63322</th>\n",
              "      <td>JZI</td>\n",
              "      <td>Airlines</td>\n",
              "      <td>Online</td>\n",
              "      <td>Basic Plan</td>\n",
              "      <td>0</td>\n",
              "      <td>58</td>\n",
              "      <td>CHINA</td>\n",
              "      <td>14.00</td>\n",
              "      <td>40</td>\n",
              "    </tr>\n",
              "    <tr>\n",
              "      <th>63323</th>\n",
              "      <td>JZI</td>\n",
              "      <td>Airlines</td>\n",
              "      <td>Online</td>\n",
              "      <td>Basic Plan</td>\n",
              "      <td>0</td>\n",
              "      <td>2</td>\n",
              "      <td>MALAYSIA</td>\n",
              "      <td>6.30</td>\n",
              "      <td>57</td>\n",
              "    </tr>\n",
              "    <tr>\n",
              "      <th>63325</th>\n",
              "      <td>JZI</td>\n",
              "      <td>Airlines</td>\n",
              "      <td>Online</td>\n",
              "      <td>Basic Plan</td>\n",
              "      <td>0</td>\n",
              "      <td>22</td>\n",
              "      <td>HONG KONG</td>\n",
              "      <td>9.10</td>\n",
              "      <td>35</td>\n",
              "    </tr>\n",
              "  </tbody>\n",
              "</table>\n",
              "<p>52829 rows × 9 columns</p>\n",
              "</div>"
            ],
            "text/plain": [
              "      Agency Agency Type Distribution Channel        Product Name  Claim  \\\n",
              "21       C2B    Airlines               Online         Bronze Plan      0   \n",
              "22       C2B    Airlines               Online         Bronze Plan      0   \n",
              "23       C2B    Airlines               Online         Bronze Plan      1   \n",
              "24       C2B    Airlines               Online         Silver Plan      0   \n",
              "25       C2B    Airlines               Online  Annual Silver Plan      0   \n",
              "...      ...         ...                  ...                 ...    ...   \n",
              "63320    JZI    Airlines               Online          Basic Plan      0   \n",
              "63321    JZI    Airlines               Online          Basic Plan      0   \n",
              "63322    JZI    Airlines               Online          Basic Plan      0   \n",
              "63323    JZI    Airlines               Online          Basic Plan      0   \n",
              "63325    JZI    Airlines               Online          Basic Plan      0   \n",
              "\n",
              "       Duration        Destination  Commision (in value)  Age  \n",
              "21           12          SINGAPORE                 11.54   44  \n",
              "22            7          SINGAPORE                  4.39   25  \n",
              "23           12          SINGAPORE                 23.50   34  \n",
              "24          190          SINGAPORE                 73.69   26  \n",
              "25          364          SINGAPORE                 97.25   30  \n",
              "...         ...                ...                   ...  ...  \n",
              "63320         5  BRUNEI DARUSSALAM                  6.30   27  \n",
              "63321       111              JAPAN                 12.25   31  \n",
              "63322        58              CHINA                 14.00   40  \n",
              "63323         2           MALAYSIA                  6.30   57  \n",
              "63325        22          HONG KONG                  9.10   35  \n",
              "\n",
              "[52829 rows x 9 columns]"
            ]
          },
          "metadata": {
            "tags": []
          },
          "execution_count": 23
        }
      ]
    },
    {
      "cell_type": "markdown",
      "metadata": {
        "id": "JCCryMoBYkxI"
      },
      "source": [
        "### Variável duration\n",
        "\n",
        "Nós temos valores negativos na duração. É possível? Sim, pois é decorrente da diferença de fuso horário. Viajar do lesta para oeste.\n",
        "\n",
        "Vamos categorizar os valores negativos."
      ]
    },
    {
      "cell_type": "code",
      "metadata": {
        "colab": {
          "base_uri": "https://localhost:8080/"
        },
        "id": "bkRNqgCiYkK4",
        "outputId": "9d7adb28-b84a-4590-d292-77497c47923a"
      },
      "source": [
        "df['Duration'].describe()"
      ],
      "execution_count": 24,
      "outputs": [
        {
          "output_type": "execute_result",
          "data": {
            "text/plain": [
              "count    52829.000000\n",
              "mean        52.426565\n",
              "std        107.622254\n",
              "min         -2.000000\n",
              "25%         11.000000\n",
              "50%         25.000000\n",
              "75%         57.000000\n",
              "max       4881.000000\n",
              "Name: Duration, dtype: float64"
            ]
          },
          "metadata": {
            "tags": []
          },
          "execution_count": 24
        }
      ]
    },
    {
      "cell_type": "code",
      "metadata": {
        "colab": {
          "base_uri": "https://localhost:8080/",
          "height": 265
        },
        "id": "ZmgKrWbJbB1t",
        "outputId": "626ca392-5869-4ad7-a107-6c7eba5ed87b"
      },
      "source": [
        "df['Duration'].hist(bins=30);"
      ],
      "execution_count": 25,
      "outputs": [
        {
          "output_type": "display_data",
          "data": {
            "image/png": "[encoded data removed]",
            "text/plain": [
              "<Figure size 432x288 with 1 Axes>"
            ]
          },
          "metadata": {
            "tags": [],
            "needs_background": "light"
          }
        }
      ]
    },
    {
      "cell_type": "code",
      "metadata": {
        "colab": {
          "base_uri": "https://localhost:8080/",
          "height": 202
        },
        "id": "6yFj56cvZhZZ",
        "outputId": "760830a6-399b-4fc6-8018-4f04c23f1cf6"
      },
      "source": [
        "df[df['Duration'] < 0.0]"
      ],
      "execution_count": 26,
      "outputs": [
        {
          "output_type": "execute_result",
          "data": {
            "text/html": [
              "<div>\n",
              "<style scoped>\n",
              "    .dataframe tbody tr th:only-of-type {\n",
              "        vertical-align: middle;\n",
              "    }\n",
              "\n",
              "    .dataframe tbody tr th {\n",
              "        vertical-align: top;\n",
              "    }\n",
              "\n",
              "    .dataframe thead th {\n",
              "        text-align: right;\n",
              "    }\n",
              "</style>\n",
              "<table border=\"1\" class=\"dataframe\">\n",
              "  <thead>\n",
              "    <tr style=\"text-align: right;\">\n",
              "      <th></th>\n",
              "      <th>Agency</th>\n",
              "      <th>Agency Type</th>\n",
              "      <th>Distribution Channel</th>\n",
              "      <th>Product Name</th>\n",
              "      <th>Claim</th>\n",
              "      <th>Duration</th>\n",
              "      <th>Destination</th>\n",
              "      <th>Commision (in value)</th>\n",
              "      <th>Age</th>\n",
              "    </tr>\n",
              "  </thead>\n",
              "  <tbody>\n",
              "    <tr>\n",
              "      <th>14943</th>\n",
              "      <td>JZI</td>\n",
              "      <td>Airlines</td>\n",
              "      <td>Online</td>\n",
              "      <td>Basic Plan</td>\n",
              "      <td>0</td>\n",
              "      <td>-2</td>\n",
              "      <td>BANGLADESH</td>\n",
              "      <td>7.7</td>\n",
              "      <td>118</td>\n",
              "    </tr>\n",
              "    <tr>\n",
              "      <th>52587</th>\n",
              "      <td>JZI</td>\n",
              "      <td>Airlines</td>\n",
              "      <td>Online</td>\n",
              "      <td>Basic Plan</td>\n",
              "      <td>0</td>\n",
              "      <td>-1</td>\n",
              "      <td>MALAYSIA</td>\n",
              "      <td>6.3</td>\n",
              "      <td>118</td>\n",
              "    </tr>\n",
              "    <tr>\n",
              "      <th>52588</th>\n",
              "      <td>JZI</td>\n",
              "      <td>Airlines</td>\n",
              "      <td>Online</td>\n",
              "      <td>Basic Plan</td>\n",
              "      <td>0</td>\n",
              "      <td>-1</td>\n",
              "      <td>BRUNEI DARUSSALAM</td>\n",
              "      <td>6.3</td>\n",
              "      <td>118</td>\n",
              "    </tr>\n",
              "    <tr>\n",
              "      <th>56668</th>\n",
              "      <td>JZI</td>\n",
              "      <td>Airlines</td>\n",
              "      <td>Online</td>\n",
              "      <td>Basic Plan</td>\n",
              "      <td>0</td>\n",
              "      <td>-1</td>\n",
              "      <td>INDONESIA</td>\n",
              "      <td>6.3</td>\n",
              "      <td>118</td>\n",
              "    </tr>\n",
              "    <tr>\n",
              "      <th>59528</th>\n",
              "      <td>JZI</td>\n",
              "      <td>Airlines</td>\n",
              "      <td>Online</td>\n",
              "      <td>Basic Plan</td>\n",
              "      <td>0</td>\n",
              "      <td>-1</td>\n",
              "      <td>CHINA</td>\n",
              "      <td>7.7</td>\n",
              "      <td>118</td>\n",
              "    </tr>\n",
              "  </tbody>\n",
              "</table>\n",
              "</div>"
            ],
            "text/plain": [
              "      Agency Agency Type Distribution Channel Product Name  Claim  Duration  \\\n",
              "14943    JZI    Airlines               Online   Basic Plan      0        -2   \n",
              "52587    JZI    Airlines               Online   Basic Plan      0        -1   \n",
              "52588    JZI    Airlines               Online   Basic Plan      0        -1   \n",
              "56668    JZI    Airlines               Online   Basic Plan      0        -1   \n",
              "59528    JZI    Airlines               Online   Basic Plan      0        -1   \n",
              "\n",
              "             Destination  Commision (in value)  Age  \n",
              "14943         BANGLADESH                   7.7  118  \n",
              "52587           MALAYSIA                   6.3  118  \n",
              "52588  BRUNEI DARUSSALAM                   6.3  118  \n",
              "56668          INDONESIA                   6.3  118  \n",
              "59528              CHINA                   7.7  118  "
            ]
          },
          "metadata": {
            "tags": []
          },
          "execution_count": 26
        }
      ]
    },
    {
      "cell_type": "markdown",
      "metadata": {
        "id": "2tuKhzbEZixG"
      },
      "source": [
        "Apenas 5 valores\n"
      ]
    },
    {
      "cell_type": "markdown",
      "metadata": {
        "id": "lrYY9eXbZ3TX"
      },
      "source": [
        "### Variáveis Destination"
      ]
    },
    {
      "cell_type": "code",
      "metadata": {
        "colab": {
          "base_uri": "https://localhost:8080/"
        },
        "id": "dam-jMOZZq0f",
        "outputId": "f50db928-ab19-4628-e00d-4992d1814998"
      },
      "source": [
        "dest=df['Destination'].value_counts()\n",
        "dest"
      ],
      "execution_count": 27,
      "outputs": [
        {
          "output_type": "execute_result",
          "data": {
            "text/plain": [
              "SINGAPORE                 11260\n",
              "THAILAND                   4974\n",
              "MALAYSIA                   4127\n",
              "CHINA                      3875\n",
              "AUSTRALIA                  3084\n",
              "                          ...  \n",
              "REUNION                       1\n",
              "REPUBLIC OF MONTENEGRO        1\n",
              "SOLOMON ISLANDS               1\n",
              "BENIN                         1\n",
              "RWANDA                        1\n",
              "Name: Destination, Length: 147, dtype: int64"
            ]
          },
          "metadata": {
            "tags": []
          },
          "execution_count": 27
        }
      ]
    },
    {
      "cell_type": "code",
      "metadata": {
        "colab": {
          "base_uri": "https://localhost:8080/",
          "height": 664
        },
        "id": "OBxk_5yZfneG",
        "outputId": "2f30da10-9a49-4407-804c-da19a9a0bc33"
      },
      "source": [
        "plt.figure(figsize=(10, 8))\n",
        "dest.iloc[:30].plot(kind='bar');"
      ],
      "execution_count": 28,
      "outputs": [
        {
          "output_type": "display_data",
          "data": {
            "image/png": "[encoded data removed]",
            "text/plain": [
              "<Figure size 720x576 with 1 Axes>"
            ]
          },
          "metadata": {
            "tags": [],
            "needs_background": "light"
          }
        }
      ]
    },
    {
      "cell_type": "markdown",
      "metadata": {
        "id": "YHYBXd21aVQa"
      },
      "source": [
        "Temos muitos destinos. Vamos considerar os 15 destinos mais visitados e o restante será considerado como outros."
      ]
    },
    {
      "cell_type": "code",
      "metadata": {
        "colab": {
          "base_uri": "https://localhost:8080/"
        },
        "id": "QH8mKpSTagIN",
        "outputId": "da8002d2-acff-4b8c-b44e-68654a75f280"
      },
      "source": [
        "dest=dict(dest[:15])\n",
        "dest=dest.keys()\n",
        "df.loc[~df.Destination.isin(dest), 'Destination'] = 'Others'\n",
        "dest=df['Destination'].value_counts()\n",
        "print(dest)"
      ],
      "execution_count": 29,
      "outputs": [
        {
          "output_type": "stream",
          "text": [
            "SINGAPORE                    11260\n",
            "Others                        7895\n",
            "THAILAND                      4974\n",
            "MALAYSIA                      4127\n",
            "CHINA                         3875\n",
            "AUSTRALIA                     3084\n",
            "INDONESIA                     2819\n",
            "UNITED STATES                 2357\n",
            "HONG KONG                     2066\n",
            "PHILIPPINES                   1965\n",
            "JAPAN                         1839\n",
            "INDIA                         1704\n",
            "KOREA, REPUBLIC OF            1355\n",
            "VIET NAM                      1328\n",
            "UNITED KINGDOM                1152\n",
            "TAIWAN, PROVINCE OF CHINA     1029\n",
            "Name: Destination, dtype: int64\n"
          ],
          "name": "stdout"
        }
      ]
    },
    {
      "cell_type": "markdown",
      "metadata": {
        "id": "z85CDdOmUpzh"
      },
      "source": [
        "### Realizando one-hot-encoding nas variáveis categóricas\n",
        "\n",
        "Para as variáveis que possuem mais de 2 categorias, realizamos o processo de one-hot-encoding que é a criação de atributos (variáveis) para cada categoria da variável. Essas variáveis serão binárias, assumindo o valor 1 quando da presença da categoria, e 0, na ausência."
      ]
    },
    {
      "cell_type": "code",
      "metadata": {
        "colab": {
          "base_uri": "https://localhost:8080/"
        },
        "id": "o4iNJdEDdHaK",
        "outputId": "1ded5af6-3a60-42ea-ac51-1a30e7f44f66"
      },
      "source": [
        "df.info()"
      ],
      "execution_count": 30,
      "outputs": [
        {
          "output_type": "stream",
          "text": [
            "<class 'pandas.core.frame.DataFrame'>\n",
            "Int64Index: 52829 entries, 21 to 63325\n",
            "Data columns (total 9 columns):\n",
            " #   Column                Non-Null Count  Dtype  \n",
            "---  ------                --------------  -----  \n",
            " 0   Agency                52829 non-null  object \n",
            " 1   Agency Type           52829 non-null  object \n",
            " 2   Distribution Channel  52829 non-null  object \n",
            " 3   Product Name          52829 non-null  object \n",
            " 4   Claim                 52829 non-null  int32  \n",
            " 5   Duration              52829 non-null  int64  \n",
            " 6   Destination           52829 non-null  object \n",
            " 7   Commision (in value)  52829 non-null  float64\n",
            " 8   Age                   52829 non-null  int64  \n",
            "dtypes: float64(1), int32(1), int64(2), object(5)\n",
            "memory usage: 3.8+ MB\n"
          ],
          "name": "stdout"
        }
      ]
    },
    {
      "cell_type": "code",
      "metadata": {
        "colab": {
          "base_uri": "https://localhost:8080/"
        },
        "id": "qubZXEbpUpzi",
        "scrolled": true,
        "outputId": "db0681db-e2f9-429b-94aa-54b3aa644d14"
      },
      "source": [
        "# função get_dummies transforma as categorias em variáveis binárias\n",
        "df_onehot = df.copy()\n",
        "# df_onehot = pd.get_dummies(df_onehot, columns=['Agency Type','Distribution Channel'])\n",
        "df_onehot = pd.get_dummies(df_onehot)\n",
        "print(df_onehot.shape)"
      ],
      "execution_count": 31,
      "outputs": [
        {
          "output_type": "stream",
          "text": [
            "(52829, 65)\n"
          ],
          "name": "stdout"
        }
      ]
    },
    {
      "cell_type": "code",
      "metadata": {
        "colab": {
          "base_uri": "https://localhost:8080/"
        },
        "id": "IDTXPJ3JfyUK",
        "outputId": "f5e4cfdf-0fe0-461e-8687-7bbb3384c5cc"
      },
      "source": [
        "## 2.\n",
        "df_onehot2 = pd.get_dummies(df2)\n",
        "print(df_onehot2.shape)"
      ],
      "execution_count": 32,
      "outputs": [
        {
          "output_type": "stream",
          "text": [
            "(63326, 199)\n"
          ],
          "name": "stdout"
        }
      ]
    },
    {
      "cell_type": "markdown",
      "metadata": {
        "id": "cYIRSf-YohUn"
      },
      "source": [
        "## Separação dos dados em treinamento e teste\n",
        "\n",
        "Vamos considerar 70% de treinamento, 30% de teste"
      ]
    },
    {
      "cell_type": "code",
      "metadata": {
        "id": "Ih7p3Ke9okYh"
      },
      "source": [
        "# antes vamos separar X (features) e y (target)\n",
        "X, y = df_onehot.drop(columns='Claim'), df['Claim']\n",
        "## 2. \n",
        "# X, y = df_onehot2.drop(columns='Claim'), df2['Claim']\n",
        "\n",
        "# separar em treinamento e teste\n",
        "X_train, X_test, y_train, y_test = train_test_split(X, y, test_size=0.3, stratify=y, random_state=1)"
      ],
      "execution_count": 33,
      "outputs": []
    },
    {
      "cell_type": "code",
      "metadata": {
        "colab": {
          "base_uri": "https://localhost:8080/"
        },
        "id": "L0yEWDP3pAvc",
        "outputId": "ab841d58-0d56-4725-c565-84b3e3ba3338"
      },
      "source": [
        "# verificando\n",
        "print('X_train.shape:',X_train.shape)\n",
        "print('y_train.shape:',y_train.shape)\n",
        "\n",
        "print('X_test.shape:', X_test.shape)\n",
        "print('y_test.shape:', y_test.shape)"
      ],
      "execution_count": 34,
      "outputs": [
        {
          "output_type": "stream",
          "text": [
            "X_train.shape: (36980, 64)\n",
            "y_train.shape: (36980,)\n",
            "X_test.shape: (15849, 64)\n",
            "y_test.shape: (15849,)\n"
          ],
          "name": "stdout"
        }
      ]
    },
    {
      "cell_type": "markdown",
      "metadata": {
        "id": "HgQJdutMnTPe"
      },
      "source": [
        "## Vamos testar modelos \n",
        "\n",
        "\n",
        "* Regressão Logística\n",
        "* KNN\n",
        "* Árvore de Decisão\n",
        "* Multilayer Perceptron (MLP)\n",
        "* Random Forest\n",
        "* XGboost"
      ]
    },
    {
      "cell_type": "code",
      "metadata": {
        "colab": {
          "base_uri": "https://localhost:8080/",
          "height": 715
        },
        "id": "jWOY3C-ZnSRz",
        "outputId": "99e02470-1977-4b64-ee5b-c478328d3476"
      },
      "source": [
        "# 1. Regressão Logística\n",
        "lg = LogisticRegression()\n",
        "# lg = LogisticRegression(penalty='none', class_weight={0: 1, 1: 98.48}) # 100-1.52 \n",
        "\n",
        "# treinamento\n",
        "lg.fit(X_train, y_train)\n",
        "\n",
        "# previsão (classificação)\n",
        "lg_pred = lg.predict(X_test)\n",
        "lg_prob = lg.predict_proba(X_test)\n",
        "\n",
        "# avaliação\n",
        "lg_acc = accuracy_score(y_test, lg_pred)\n",
        "lg_roc = roc_auc_score(y_test, lg_prob[:, 1])\n",
        "lg_cm = confusion_matrix(y_test, lg_pred)\n",
        "\n",
        "print('Accuracy Logistic Regression: ', lg_acc)\n",
        "print('ROC:', lg_roc)\n",
        "print('Confusion Matrix:\\n', lg_cm)\n",
        "\n",
        "plot_confusion_matrix(lg, X_test, y_test)\n",
        "plt.show()\n",
        "\n",
        "print(metrics.classification_report(y_test, lg_pred))"
      ],
      "execution_count": 35,
      "outputs": [
        {
          "output_type": "stream",
          "text": [
            "/usr/local/lib/python3.7/dist-packages/sklearn/linear_model/_logistic.py:940: ConvergenceWarning: lbfgs failed to converge (status=1):\n",
            "STOP: TOTAL NO. of ITERATIONS REACHED LIMIT.\n",
            "\n",
            "Increase the number of iterations (max_iter) or scale the data as shown in:\n",
            "    https://scikit-learn.org/stable/modules/preprocessing.html\n",
            "Please also refer to the documentation for alternative solver options:\n",
            "    https://scikit-learn.org/stable/modules/linear_model.html#logistic-regression\n",
            "  extra_warning_msg=_LOGISTIC_SOLVER_CONVERGENCE_MSG)\n"
          ],
          "name": "stderr"
        },
        {
          "output_type": "stream",
          "text": [
            "Accuracy Logistic Regression:  0.9826487475550508\n",
            "ROC: 0.8169114024539735\n",
            "Confusion Matrix:\n",
            " [[15574     0]\n",
            " [  275     0]]\n"
          ],
          "name": "stdout"
        },
        {
          "output_type": "display_data",
          "data": {
            "image/png": "[encoded data removed]",
            "text/plain": [
              "<Figure size 432x288 with 2 Axes>"
            ]
          },
          "metadata": {
            "tags": [],
            "needs_background": "light"
          }
        },
        {
          "output_type": "stream",
          "text": [
            "              precision    recall  f1-score   support\n",
            "\n",
            "           0       0.98      1.00      0.99     15574\n",
            "           1       0.00      0.00      0.00       275\n",
            "\n",
            "    accuracy                           0.98     15849\n",
            "   macro avg       0.49      0.50      0.50     15849\n",
            "weighted avg       0.97      0.98      0.97     15849\n",
            "\n"
          ],
          "name": "stdout"
        },
        {
          "output_type": "stream",
          "text": [
            "/usr/local/lib/python3.7/dist-packages/sklearn/metrics/_classification.py:1272: UndefinedMetricWarning: Precision and F-score are ill-defined and being set to 0.0 in labels with no predicted samples. Use `zero_division` parameter to control this behavior.\n",
            "  _warn_prf(average, modifier, msg_start, len(result))\n"
          ],
          "name": "stderr"
        }
      ]
    },
    {
      "cell_type": "code",
      "metadata": {
        "colab": {
          "base_uri": "https://localhost:8080/",
          "height": 366
        },
        "id": "JLyDfG7zYDSA",
        "outputId": "29afcd9e-f97d-4617-b24e-200fe1fcfab9"
      },
      "source": [
        "# 1. KNN\n",
        "knn = KNeighborsClassifier()\n",
        "\n",
        "# treinamento\n",
        "knn.fit(X_train, y_train)\n",
        "\n",
        "# previsão (classificação)\n",
        "knn_pred = knn.predict(X_test)\n",
        "knn_prob = knn.predict_proba(X_test)\n",
        "\n",
        "# avaliação\n",
        "knn_acc = accuracy_score(y_test, knn_pred)\n",
        "knn_roc = roc_auc_score(y_test, knn_prob[:, 1])\n",
        "knn_cm = confusion_matrix(y_test, knn_pred)\n",
        "\n",
        "print('Accuracy KNN: ', knn_acc)\n",
        "print('ROC:', knn_roc)\n",
        "print('Confusion Matrix:\\n', knn_cm)\n",
        "\n",
        "plot_confusion_matrix(knn, X_test, y_test)\n",
        "plt.show()"
      ],
      "execution_count": 36,
      "outputs": [
        {
          "output_type": "stream",
          "text": [
            "Accuracy KNN:  0.9822070793109975\n",
            "ROC: 0.5779870880371716\n",
            "Confusion Matrix:\n",
            " [[15566     8]\n",
            " [  274     1]]\n"
          ],
          "name": "stdout"
        },
        {
          "output_type": "display_data",
          "data": {
            "image/png": "[encoded data removed]",
            "text/plain": [
              "<Figure size 432x288 with 2 Axes>"
            ]
          },
          "metadata": {
            "tags": [],
            "needs_background": "light"
          }
        }
      ]
    },
    {
      "cell_type": "code",
      "metadata": {
        "colab": {
          "base_uri": "https://localhost:8080/",
          "height": 366
        },
        "id": "MEdfoFwwYEKR",
        "outputId": "7947acb6-5815-486c-8014-f923a6dbf5e1"
      },
      "source": [
        "# Árvore de Decisão\n",
        "arv = DecisionTreeClassifier()\n",
        "# arv = DecisionTreeClassifier(class_weight={0: 1, 1: 98.5})\n",
        "\n",
        "# treinamento\n",
        "arv.fit(X_train, y_train)\n",
        "\n",
        "# previsão (classificação)\n",
        "arv_pred = arv.predict(X_test)\n",
        "arv_prob = arv.predict_proba(X_test)\n",
        "\n",
        "# avaliação\n",
        "arv_acc = accuracy_score(y_test, arv_pred)\n",
        "arv_roc = roc_auc_score(y_test, arv_prob[:, 1])\n",
        "arv_cm = confusion_matrix(y_test, arv_pred)\n",
        "\n",
        "print('Accuracy Árvore: ', arv_acc)\n",
        "print('ROC:', arv_roc)\n",
        "print('Confusion Matrix:\\n', arv_cm)\n",
        "\n",
        "plot_confusion_matrix(arv, X_test, y_test)\n",
        "plt.show()"
      ],
      "execution_count": 37,
      "outputs": [
        {
          "output_type": "stream",
          "text": [
            "Accuracy Árvore:  0.9673165499400593\n",
            "ROC: 0.5247380832856626\n",
            "Confusion Matrix:\n",
            " [[15311   263]\n",
            " [  255    20]]\n"
          ],
          "name": "stdout"
        },
        {
          "output_type": "display_data",
          "data": {
            "image/png": "[encoded data removed]",
            "text/plain": [
              "<Figure size 432x288 with 2 Axes>"
            ]
          },
          "metadata": {
            "tags": [],
            "needs_background": "light"
          }
        }
      ]
    },
    {
      "cell_type": "code",
      "metadata": {
        "id": "OVCXtfZbb0bW"
      },
      "source": [
        "# MLP\n",
        "mlp = MLPClassifier()\n",
        "\n",
        "mlp.fit(X_train, y_train)\n",
        "\n",
        "mlp_pred = mlp.predict(X_test)\n",
        "mlp_prob = mlp.predict_proba(X_test)\n",
        "\n",
        "# avaliação\n",
        "mlp_acc = accuracy_score(y_test, mlp_pred)\n",
        "mlp_roc = roc_auc_score(y_test, mlp_prob[:, 1])\n",
        "mlp_cm = confusion_matrix(y_test, mlp_pred)"
      ],
      "execution_count": 38,
      "outputs": []
    },
    {
      "cell_type": "code",
      "metadata": {
        "id": "vH2EA18Lb1a-",
        "colab": {
          "base_uri": "https://localhost:8080/",
          "height": 577
        },
        "outputId": "3cb4f1b0-f5df-4fd4-8e66-c3c47b090139"
      },
      "source": [
        "print('Accuracy MLP: ', mlp_acc)\n",
        "print('ROC:', mlp_roc)\n",
        "print('Confusion Matrix:\\n', mlp_cm)\n",
        "\n",
        "plot_confusion_matrix(mlp, X_test, y_test)\n",
        "plt.show()\n",
        "print(metrics.classification_report(y_test, mlp_pred))"
      ],
      "execution_count": 39,
      "outputs": [
        {
          "output_type": "stream",
          "text": [
            "Accuracy MLP:  0.9826487475550508\n",
            "ROC: 0.6673777974946589\n",
            "Confusion Matrix:\n",
            " [[15574     0]\n",
            " [  275     0]]\n"
          ],
          "name": "stdout"
        },
        {
          "output_type": "display_data",
          "data": {
            "image/png": "[encoded data removed]",
            "text/plain": [
              "<Figure size 432x288 with 2 Axes>"
            ]
          },
          "metadata": {
            "tags": [],
            "needs_background": "light"
          }
        },
        {
          "output_type": "stream",
          "text": [
            "              precision    recall  f1-score   support\n",
            "\n",
            "           0       0.98      1.00      0.99     15574\n",
            "           1       0.00      0.00      0.00       275\n",
            "\n",
            "    accuracy                           0.98     15849\n",
            "   macro avg       0.49      0.50      0.50     15849\n",
            "weighted avg       0.97      0.98      0.97     15849\n",
            "\n"
          ],
          "name": "stdout"
        },
        {
          "output_type": "stream",
          "text": [
            "/usr/local/lib/python3.7/dist-packages/sklearn/metrics/_classification.py:1272: UndefinedMetricWarning: Precision and F-score are ill-defined and being set to 0.0 in labels with no predicted samples. Use `zero_division` parameter to control this behavior.\n",
            "  _warn_prf(average, modifier, msg_start, len(result))\n"
          ],
          "name": "stderr"
        }
      ]
    },
    {
      "cell_type": "code",
      "metadata": {
        "id": "YdGMSf1Yrdlz",
        "colab": {
          "base_uri": "https://localhost:8080/",
          "height": 366
        },
        "outputId": "9824e602-a83a-41d1-dcf3-1129f7d170fb"
      },
      "source": [
        "# 4. Random Forest\n",
        "rf = RandomForestClassifier()\n",
        "# rf = RandomForestClassifier(class_weight={0: 1, 1: 98.5})\n",
        "\n",
        "# treinamento\n",
        "rf.fit(X_train, y_train)\n",
        "\n",
        "# previsão\n",
        "rf_pred = rf.predict(X_test)\n",
        "rf_prob = rf.predict_proba(X_test)\n",
        "\n",
        "# avaliação\n",
        "rf_acc = accuracy_score(y_test, rf_pred)\n",
        "rf_roc = roc_auc_score(y_test, rf_prob[:, 1])\n",
        "rf_cm = confusion_matrix(y_test, rf_pred)\n",
        "\n",
        "print('Accuracy Random Forest: ', rf_acc)\n",
        "print('ROC:', rf_roc)\n",
        "print('Confusion Matrix:\\n', rf_cm)\n",
        "\n",
        "plot_confusion_matrix(rf, X_test, y_test)\n",
        "plt.show()"
      ],
      "execution_count": 40,
      "outputs": [
        {
          "output_type": "stream",
          "text": [
            "Accuracy Random Forest:  0.979557069846678\n",
            "ROC: 0.7002040697199294\n",
            "Confusion Matrix:\n",
            " [[15522    52]\n",
            " [  272     3]]\n"
          ],
          "name": "stdout"
        },
        {
          "output_type": "display_data",
          "data": {
            "image/png": "[encoded data removed]",
            "text/plain": [
              "<Figure size 432x288 with 2 Axes>"
            ]
          },
          "metadata": {
            "tags": [],
            "needs_background": "light"
          }
        }
      ]
    },
    {
      "cell_type": "code",
      "metadata": {
        "id": "5M9SjhCPsnL8",
        "colab": {
          "base_uri": "https://localhost:8080/",
          "height": 366
        },
        "outputId": "5efcb55a-af57-4446-b545-d6330f442d71"
      },
      "source": [
        "# 5. XGBoost\n",
        "xgb = XGBClassifier()\n",
        "# xgb = XGBClassifier(scale_pos_weight=98.5)\n",
        "\n",
        "# treinamento\n",
        "xgb.fit(X_train, y_train)\n",
        "xgb_pred = xgb.predict(X_test)\n",
        "xgb_prob = xgb.predict_proba(X_test)\n",
        "\n",
        "# avaliação\n",
        "xgb_acc = accuracy_score(y_test, xgb_pred)\n",
        "xgb_roc = roc_auc_score(y_test, xgb_prob[:, 1])\n",
        "xgb_cm = confusion_matrix(y_test, xgb_pred)\n",
        "\n",
        "print('Accuracy XGBoost: ', xgb_acc)\n",
        "print('ROC:', xgb_roc)\n",
        "print('Confusion Matrix:\\n', xgb_cm)\n",
        "\n",
        "plot_confusion_matrix(xgb, X_test, y_test)\n",
        "plt.show()"
      ],
      "execution_count": 41,
      "outputs": [
        {
          "output_type": "stream",
          "text": [
            "Accuracy XGBoost:  0.9826487475550508\n",
            "ROC: 0.8242562779457603\n",
            "Confusion Matrix:\n",
            " [[15574     0]\n",
            " [  275     0]]\n"
          ],
          "name": "stdout"
        },
        {
          "output_type": "display_data",
          "data": {
            "image/png": "[encoded data removed]",
            "text/plain": [
              "<Figure size 432x288 with 2 Axes>"
            ]
          },
          "metadata": {
            "tags": [],
            "needs_background": "light"
          }
        }
      ]
    },
    {
      "cell_type": "markdown",
      "metadata": {
        "id": "bu6NdC93s2RT"
      },
      "source": [
        "#### Qual foi o melhor modelo nessa análise prévia?\n",
        "\n",
        "Essa não é a forma mais adequada.\n",
        "\n",
        "Precisamos, antes de tudo, realizar a validação cruzada com uma grid de hiper parâmetros e usar os dados de teste ao final para comparar os modelos.\n",
        "\n",
        "\n",
        "O que podemos fazer é criar ponderações para penalizar a classificação na classe dominante. \n"
      ]
    },
    {
      "cell_type": "markdown",
      "metadata": {
        "id": "fRvweAzPymoB"
      },
      "source": [
        "## Parte 2 - Otimização dos parâmetros com validação cruzada e grid search"
      ]
    },
    {
      "cell_type": "markdown",
      "metadata": {
        "id": "w9ePfmb1yQtM"
      },
      "source": [
        "### Grid Search com Validação Cruzada \n"
      ]
    },
    {
      "cell_type": "code",
      "metadata": {
        "colab": {
          "base_uri": "https://localhost:8080/"
        },
        "id": "hlIWhrWAZqzo",
        "outputId": "13ac2981-73b2-4e3b-d9df-d04dd6ddb31d"
      },
      "source": [
        "## Grid Search - busca de parâmetros \n",
        "## Deve-se realizar a grid search com a validação cruzada, pois testa-se em vários conjuntos de dados\n",
        "#### Exemplo com Random Forest\n",
        "## Definindo os parâmetros\n",
        "parametros_rf = {'n_estimators': [30, 100, 500], 'max_depth': [3, 4, 5, 10]}\n",
        "\n",
        "gs_clf = GridSearchCV(RandomForestClassifier(class_weight={0: 1, 1: 98.5}), scoring='roc_auc',param_grid=parametros_rf, n_jobs=-1, cv=5)\n",
        "clf = gs_clf.fit(X_train, y_train)\n",
        "score = clf.score(X_test, y_test)\n",
        "\n",
        "print('Random Forest ROC:', score)\n",
        "print('Melhor param:', clf.best_params_)"
      ],
      "execution_count": 42,
      "outputs": [
        {
          "output_type": "stream",
          "text": [
            "Random Forest ROC: 0.8205845406680131\n",
            "Melhor param: {'max_depth': 5, 'n_estimators': 500}\n"
          ],
          "name": "stdout"
        }
      ]
    },
    {
      "cell_type": "code",
      "metadata": {
        "colab": {
          "base_uri": "https://localhost:8080/",
          "height": 525
        },
        "id": "baWOYSHaa7mq",
        "outputId": "a83ba5c2-ce63-4b40-ef72-6ab09f207915"
      },
      "source": [
        "# Podemos visualizar accuracy e a matriz de confusão\n",
        "# previsão\n",
        "clf_pred = clf.predict(X_test)\n",
        "clf_prob = clf.predict_proba(X_test)\n",
        "\n",
        "# avaliação\n",
        "clf_acc = accuracy_score(y_test, clf_pred)\n",
        "clf_roc = roc_auc_score(y_test, clf_prob[:, 1])\n",
        "clf_cm = confusion_matrix(y_test, clf_pred)\n",
        "\n",
        "print('Accuracy Random Forest: ', clf_acc)\n",
        "print('ROC:', clf_roc)\n",
        "print('Confusion Matrix:\\n', clf_cm)\n",
        "\n",
        "plot_confusion_matrix(clf, X_test, y_test)\n",
        "plt.show()\n",
        "\n",
        "print(metrics.classification_report(y_test, clf_pred))"
      ],
      "execution_count": 43,
      "outputs": [
        {
          "output_type": "stream",
          "text": [
            "Accuracy Random Forest:  0.6489999369045366\n",
            "ROC: 0.8205845406680131\n",
            "Confusion Matrix:\n",
            " [[10055  5519]\n",
            " [   44   231]]\n"
          ],
          "name": "stdout"
        },
        {
          "output_type": "display_data",
          "data": {
            "image/png": "[encoded data removed]",
            "text/plain": [
              "<Figure size 432x288 with 2 Axes>"
            ]
          },
          "metadata": {
            "tags": [],
            "needs_background": "light"
          }
        },
        {
          "output_type": "stream",
          "text": [
            "              precision    recall  f1-score   support\n",
            "\n",
            "           0       1.00      0.65      0.78     15574\n",
            "           1       0.04      0.84      0.08       275\n",
            "\n",
            "    accuracy                           0.65     15849\n",
            "   macro avg       0.52      0.74      0.43     15849\n",
            "weighted avg       0.98      0.65      0.77     15849\n",
            "\n"
          ],
          "name": "stdout"
        }
      ]
    },
    {
      "cell_type": "code",
      "metadata": {
        "colab": {
          "base_uri": "https://localhost:8080/"
        },
        "id": "ZU3nv_6fi6C7",
        "outputId": "c36faada-13b3-4c90-f4a1-9de10eda40b8"
      },
      "source": [
        "## Testar com vários modelos\n",
        "print('Iniciando grid search e validação cruzada')\n",
        "\n",
        "names = [\n",
        "        \"Regressão Logística\",\n",
        "        \"Random Forest\",\n",
        "        \"XGBoost\",\n",
        "        ]\n",
        "\n",
        "classificadores = [\n",
        "    LogisticRegression(class_weight={0: 1, 1: 98.5}),\n",
        "    RandomForestClassifier(class_weight={0: 1, 1: 98.5}),\n",
        "    XGBClassifier(scale_pos_weight=98.5),\n",
        "]\n",
        "\n",
        "parametros = [\n",
        "            {'penalty': ['none','l1', 'l2', 'elasticnet']},\n",
        "            {'n_estimators': [50, 100, 500],\n",
        "                'max_depth': [3, 5, 10]},\n",
        "            {'n_estimators': [50, 100, 500],\n",
        "                'max_depth': [3, 5, 10]},\n",
        "              ]\n",
        "\n",
        "escores = []\n",
        "melhores_params = []\n",
        "modelos = []\n",
        "\n",
        "for name, classificador, params in zip(names, classificadores, parametros):\n",
        "    print('-------------------------------------------------------------------')\n",
        "    print('classificador:', name)\n",
        "    print('parametros:', params)\n",
        "\n",
        "    gs_clf = GridSearchCV(classificador, scoring='roc_auc',param_grid=params, n_jobs=-1, cv=5)\n",
        "    clf = gs_clf.fit(X_train, y_train)\n",
        "    score = clf.score(X_test, y_test)\n",
        "\n",
        "    escores.append(score)\n",
        "    melhores_params.append(clf.best_params_)\n",
        "    modelos.append(clf)\n",
        "\n",
        "    print('{} score: {}'.format(name, score))\n",
        "    print('Melhores params', clf.best_params_)"
      ],
      "execution_count": 44,
      "outputs": [
        {
          "output_type": "stream",
          "text": [
            "Iniciando grid search e validação cruzada\n",
            "-------------------------------------------------------------------\n",
            "classificador: Regressão Logística\n",
            "parametros: {'penalty': ['none', 'l1', 'l2', 'elasticnet']}\n"
          ],
          "name": "stdout"
        },
        {
          "output_type": "stream",
          "text": [
            "/usr/local/lib/python3.7/dist-packages/sklearn/linear_model/_logistic.py:940: ConvergenceWarning: lbfgs failed to converge (status=1):\n",
            "STOP: TOTAL NO. of ITERATIONS REACHED LIMIT.\n",
            "\n",
            "Increase the number of iterations (max_iter) or scale the data as shown in:\n",
            "    https://scikit-learn.org/stable/modules/preprocessing.html\n",
            "Please also refer to the documentation for alternative solver options:\n",
            "    https://scikit-learn.org/stable/modules/linear_model.html#logistic-regression\n",
            "  extra_warning_msg=_LOGISTIC_SOLVER_CONVERGENCE_MSG)\n"
          ],
          "name": "stderr"
        },
        {
          "output_type": "stream",
          "text": [
            "Regressão Logística score: 0.8197065038467375\n",
            "Melhores params {'penalty': 'l2'}\n",
            "-------------------------------------------------------------------\n",
            "classificador: Random Forest\n",
            "parametros: {'n_estimators': [50, 100, 500], 'max_depth': [3, 5, 10]}\n",
            "Random Forest score: 0.8237861470749618\n",
            "Melhores params {'max_depth': 5, 'n_estimators': 500}\n",
            "-------------------------------------------------------------------\n",
            "classificador: XGBoost\n",
            "parametros: {'n_estimators': [50, 100, 500], 'max_depth': [3, 5, 10]}\n",
            "XGBoost score: 0.8232047585136066\n",
            "Melhores params {'max_depth': 3, 'n_estimators': 50}\n"
          ],
          "name": "stdout"
        }
      ]
    },
    {
      "cell_type": "code",
      "metadata": {
        "id": "me-ya7q2bpyv",
        "colab": {
          "base_uri": "https://localhost:8080/",
          "height": 1000
        },
        "outputId": "64a29131-198c-47bf-9e4e-58a47c30bd1c"
      },
      "source": [
        "# Podemos visualizar accuracy e a matriz de confusão\n",
        "# previsão\n",
        "lg_pred = modelos[0].predict(X_test)\n",
        "lg_prob = modelos[0].predict_proba(X_test)\n",
        "xgb_pred = modelos[1].predict(X_test)\n",
        "xgb_prob = modelos[1].predict_proba(X_test)\n",
        "\n",
        "# avaliação\n",
        "lg_acc = accuracy_score(y_test, lg_pred)\n",
        "lg_roc = roc_auc_score(y_test, lg_prob[:, 1])\n",
        "lg_cm = confusion_matrix(y_test, lg_pred)\n",
        "\n",
        "xgb_acc = accuracy_score(y_test, xgb_pred)\n",
        "xgb_roc = roc_auc_score(y_test, xgb_prob[:, 1])\n",
        "xgb_cm = confusion_matrix(y_test, xgb_pred)\n",
        "\n",
        "print('Accuracy Reg. Logística: ', lg_acc)\n",
        "print('ROC:', lg_roc)\n",
        "print('Confusion Matrix:\\n', lg_cm)\n",
        "\n",
        "print('Accuracy XGBoost: ', xgb_acc)\n",
        "print('ROC:', xgb_roc)\n",
        "print('Confusion Matrix:\\n', xgb_cm)\n",
        "\n",
        "print('Regressão Logística')\n",
        "plot_confusion_matrix(modelos[0], X_test, y_test)\n",
        "plt.show()\n",
        "\n",
        "print(metrics.classification_report(y_test, lg_pred))\n",
        "\n",
        "print('XGBoost')\n",
        "plot_confusion_matrix(modelos[1], X_test, y_test)\n",
        "plt.show()\n",
        "\n",
        "print(metrics.classification_report(y_test, xgb_pred))"
      ],
      "execution_count": 45,
      "outputs": [
        {
          "output_type": "stream",
          "text": [
            "Accuracy Reg. Logística:  0.6117105180137548\n",
            "ROC: 0.8197065038467375\n",
            "Confusion Matrix:\n",
            " [[9460 6114]\n",
            " [  40  235]]\n",
            "Accuracy XGBoost:  0.6387784718278756\n",
            "ROC: 0.8237861470749618\n",
            "Confusion Matrix:\n",
            " [[9889 5685]\n",
            " [  40  235]]\n",
            "Regressão Logística\n"
          ],
          "name": "stdout"
        },
        {
          "output_type": "display_data",
          "data": {
            "image/png": "[encoded data removed]",
            "text/plain": [
              "<Figure size 432x288 with 2 Axes>"
            ]
          },
          "metadata": {
            "tags": [],
            "needs_background": "light"
          }
        },
        {
          "output_type": "stream",
          "text": [
            "              precision    recall  f1-score   support\n",
            "\n",
            "           0       1.00      0.61      0.75     15574\n",
            "           1       0.04      0.85      0.07       275\n",
            "\n",
            "    accuracy                           0.61     15849\n",
            "   macro avg       0.52      0.73      0.41     15849\n",
            "weighted avg       0.98      0.61      0.74     15849\n",
            "\n",
            "XGBoost\n"
          ],
          "name": "stdout"
        },
        {
          "output_type": "display_data",
          "data": {
            "image/png": "[encoded data removed]",
            "text/plain": [
              "<Figure size 432x288 with 2 Axes>"
            ]
          },
          "metadata": {
            "tags": [],
            "needs_background": "light"
          }
        },
        {
          "output_type": "stream",
          "text": [
            "              precision    recall  f1-score   support\n",
            "\n",
            "           0       1.00      0.63      0.78     15574\n",
            "           1       0.04      0.85      0.08       275\n",
            "\n",
            "    accuracy                           0.64     15849\n",
            "   macro avg       0.52      0.74      0.43     15849\n",
            "weighted avg       0.98      0.64      0.76     15849\n",
            "\n"
          ],
          "name": "stdout"
        }
      ]
    },
    {
      "cell_type": "markdown",
      "metadata": {
        "id": "oHq2ORxWKv18"
      },
      "source": [
        "### O que se pode fazer a partir de agora?\n",
        "\n",
        "* Redução da dimensionalidade:\n",
        "    * PCA\n",
        "    * Autoencoder\n",
        "\n",
        "* Otimização de hiper-parâmetros com algoritmos evolucionários\n",
        "\n",
        "* Feature selection\n",
        "\n",
        "* Tentar rebalancear os dados:\n",
        "    * Under-sampling\n",
        "    * Over-sampling\n"
      ]
    },
    {
      "cell_type": "code",
      "metadata": {
        "id": "HbZ4J5DVa2z5"
      },
      "source": [
        ""
      ],
      "execution_count": 45,
      "outputs": []
    }
  ]
}